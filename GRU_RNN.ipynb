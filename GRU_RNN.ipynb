{
  "nbformat": 4,
  "nbformat_minor": 0,
  "metadata": {
    "colab": {
      "name": "GRU_RNN.ipynb",
      "provenance": [],
      "authorship_tag": "ABX9TyOwIJ+K51+yfN+hsChsL6gX",
      "include_colab_link": true
    },
    "kernelspec": {
      "name": "python3",
      "display_name": "Python 3"
    }
  },
  "cells": [
    {
      "cell_type": "markdown",
      "metadata": {
        "id": "view-in-github",
        "colab_type": "text"
      },
      "source": [
        "<a href=\"https://colab.research.google.com/github/purnimapatel/Comparing-of-Deep_learning-Neural-Network/blob/main/GRU_RNN.ipynb\" target=\"_parent\"><img src=\"https://colab.research.google.com/assets/colab-badge.svg\" alt=\"Open In Colab\"/></a>"
      ]
    },
    {
      "cell_type": "code",
      "metadata": {
        "id": "6Lgytatg2oct"
      },
      "source": [
        "#import the libraries\n",
        "import numpy as np\n",
        "import pandas as pd\n",
        "#from numpy import mean\n",
        "#from numpy import std\n",
        "#from numpy import dstack\n",
        "from matplotlib import pyplot\n",
        "from keras.models import Sequential\n",
        "from keras.layers import Dense\n",
        "from keras.layers import Flatten\n",
        "from keras.layers import Dropout\n",
        "from sklearn.preprocessing import StandardScaler\n",
        "from sklearn.metrics import classification_report, confusion_matrix\n",
        "from keras.layers import GRU\n",
        "from keras.utils import to_categorical"
      ],
      "execution_count": null,
      "outputs": []
    },
    {
      "cell_type": "code",
      "metadata": {
        "id": "dDiTwwNR3tjE",
        "outputId": "799f99f8-a25e-4595-ca9b-99f1017ff0d7",
        "colab": {
          "base_uri": "https://localhost:8080/"
        }
      },
      "source": [
        "#opening the zip-file\n",
        "from zipfile import ZipFile\n",
        "file_name1=\"UCI HAR Dataset.zip\"\n",
        "with ZipFile(file_name1,'r') as zip:\n",
        "  zip.extractall()\n",
        "  print(\"DONE_1\")\n"
      ],
      "execution_count": null,
      "outputs": [
        {
          "output_type": "stream",
          "text": [
            "DONE_1\n"
          ],
          "name": "stdout"
        }
      ]
    },
    {
      "cell_type": "code",
      "metadata": {
        "id": "XKQu-C-H34jO"
      },
      "source": [
        "#those are separate normalised input features for the neural network\n",
        "SIGNALS = [\n",
        "    \"body_acc_x\",\n",
        "    \"body_acc_y\",\n",
        "    \"body_acc_z\",\n",
        "    \"body_gyro_x\",\n",
        "    \"body_gyro_y\",\n",
        "    \"body_gyro_z\",\n",
        "    \"total_acc_x\",\n",
        "    \"total_acc_y\",\n",
        "    \"total_acc_z\"\n",
        "]\n",
        "# Output classes to learn how to classify\n",
        "LABELS = [\n",
        "    \"WALKING\",\n",
        "    \"WALKING_UPSTAIRS\",\n",
        "    \"WALKING_DOWNSTAIRS\",\n",
        "    \"SITTING\",\n",
        "    \"STANDING\",\n",
        "    \"LAYING\"\n",
        "]"
      ],
      "execution_count": null,
      "outputs": []
    },
    {
      "cell_type": "code",
      "metadata": {
        "id": "PpS-WuLX4EwW"
      },
      "source": [
        "# Utility function to read the data from csv file\n",
        "def _read_csv(filename):\n",
        "    return pd.read_csv(filename, delim_whitespace=True, header=None)\n",
        "\n",
        "# Utility function to load the load_signals\n",
        "def load_signals(subset):\n",
        "    signals_data = []\n",
        "\n",
        "    for signal in SIGNALS:\n",
        "        filename = f'/content/UCI HAR Dataset/{subset}/Inertial Signals/{signal}_{subset}.txt'\n",
        "        #/content/UCI HAR Dataset/train/Inertial Signals\n",
        "        #/content/UCI HAR Dataset/train/Inertial Signals/body_acc_x_train.txt\n",
        "        signals_data.append(\n",
        "            _read_csv(filename).to_numpy()\n",
        "        ) \n",
        "\n",
        "    # Transpose is used to change the dimensionality of the output,\n",
        "    # aggregating the signals by combination of sample/timestep.\n",
        "    # Resultant shape is (7352 train/2947 test samples, 128 timesteps, 9 signals)\n",
        "    return np.transpose(signals_data, (1, 2, 0))"
      ],
      "execution_count": null,
      "outputs": []
    },
    {
      "cell_type": "code",
      "metadata": {
        "id": "QS0Vx5jj4Kh_"
      },
      "source": [
        "def load_y(subset):\n",
        "    filename = f'/content/UCI HAR Dataset/{subset}/y_{subset}.txt'\n",
        "    y = _read_csv(filename)[0]\n",
        "\n",
        "    return pd.get_dummies(y).to_numpy()"
      ],
      "execution_count": null,
      "outputs": []
    },
    {
      "cell_type": "code",
      "metadata": {
        "id": "eosKcnzr4Os_"
      },
      "source": [
        "def load_data():\n",
        "    \"\"\"\n",
        "    Obtain the dataset from multiple files.\n",
        "    Returns: X_train, X_test, y_train, y_test\n",
        "    \"\"\"\n",
        "    X_train, X_test = load_signals('train'), load_signals('test')\n",
        "    y_train, y_test = load_y('train'), load_y('test')\n",
        "\n",
        "    return X_train, y_train, X_test,  y_test"
      ],
      "execution_count": null,
      "outputs": []
    },
    {
      "cell_type": "code",
      "metadata": {
        "id": "qPtE1-Ql48cj"
      },
      "source": [
        "# Importing tensorflow\n",
        "np.random.seed(42)\n",
        "import tensorflow as tf\n",
        "tf.random.set_seed(42)"
      ],
      "execution_count": null,
      "outputs": []
    },
    {
      "cell_type": "code",
      "metadata": {
        "id": "adgZ12F749wR"
      },
      "source": [
        "# Initializing parameters\n",
        "epochs = 45\n",
        "batch_size = 16\n",
        "n_hidden = 32"
      ],
      "execution_count": null,
      "outputs": []
    },
    {
      "cell_type": "code",
      "metadata": {
        "id": "PxnN7faH8P08"
      },
      "source": [
        "# Utility function to count the number of classes\n",
        "def _count_classes(y):\n",
        "    return len(set([tuple(category) for category in y]))"
      ],
      "execution_count": null,
      "outputs": []
    },
    {
      "cell_type": "code",
      "metadata": {
        "id": "dp0uEPbJ8VVI"
      },
      "source": [
        "# Loading the train and test data\n",
        "X_train, Y_train, X_test,  Y_test = load_data()"
      ],
      "execution_count": null,
      "outputs": []
    },
    {
      "cell_type": "code",
      "metadata": {
        "id": "H6krYz4v8eRP",
        "outputId": "78105c0f-55b2-4aed-ce40-4b13c5063ef3",
        "colab": {
          "base_uri": "https://localhost:8080/"
        }
      },
      "source": [
        "timesteps = len(X_train[0])\n",
        "input_dim = len(X_train[0][0])\n",
        "n_classes = _count_classes(Y_train)\n",
        "#n_classes be 6\n",
        "print(timesteps)\n",
        "print(input_dim)\n",
        "print(len(X_train))\n",
        "print(n_classes)"
      ],
      "execution_count": null,
      "outputs": [
        {
          "output_type": "stream",
          "text": [
            "128\n",
            "9\n",
            "7352\n",
            "6\n"
          ],
          "name": "stdout"
        }
      ]
    },
    {
      "cell_type": "code",
      "metadata": {
        "id": "GfKPykfZ_8GX",
        "outputId": "b8f3027d-7560-4762-a197-3316515a6dcb",
        "colab": {
          "base_uri": "https://localhost:8080/"
        }
      },
      "source": [
        "# Initiliazing the sequential model\n",
        "model = Sequential()\n",
        "# Configuring the parameters\n",
        "model.add(GRU(n_hidden, input_shape=(timesteps, input_dim)))\n",
        "# Adding a dropout layer\n",
        "model.add(Dropout(0.5))\n",
        "# Adding a dense output layer with sigmoid activation\n",
        "model.add(Dense(n_classes, activation='softmax'))\n",
        "model.summary()"
      ],
      "execution_count": null,
      "outputs": [
        {
          "output_type": "stream",
          "text": [
            "Model: \"sequential_2\"\n",
            "_________________________________________________________________\n",
            "Layer (type)                 Output Shape              Param #   \n",
            "=================================================================\n",
            "gru_2 (GRU)                  (None, 32)                4128      \n",
            "_________________________________________________________________\n",
            "dropout_2 (Dropout)          (None, 32)                0         \n",
            "_________________________________________________________________\n",
            "dense_2 (Dense)              (None, 6)                 198       \n",
            "=================================================================\n",
            "Total params: 4,326\n",
            "Trainable params: 4,326\n",
            "Non-trainable params: 0\n",
            "_________________________________________________________________\n"
          ],
          "name": "stdout"
        }
      ]
    },
    {
      "cell_type": "code",
      "metadata": {
        "id": "Gf0FyJCtAQum"
      },
      "source": [
        " #Compiling the model\n",
        "model.compile(loss='categorical_crossentropy',\n",
        "              optimizer='adam',\n",
        "              metrics=['accuracy'])"
      ],
      "execution_count": null,
      "outputs": []
    },
    {
      "cell_type": "code",
      "metadata": {
        "id": "9MvvwlIMAcXP",
        "outputId": "563cdff4-3b7e-4038-8e65-345cd7ea81bd",
        "colab": {
          "base_uri": "https://localhost:8080/"
        }
      },
      "source": [
        "# Training the model\n",
        "model.fit(X_train,Y_train,\n",
        "          batch_size=batch_size,\n",
        "          validation_data=(X_test, Y_test),\n",
        "          epochs=epochs,shuffle=True)\n"
      ],
      "execution_count": null,
      "outputs": [
        {
          "output_type": "stream",
          "text": [
            "Epoch 1/45\n",
            "460/460 [==============================] - 20s 44ms/step - loss: 1.2727 - accuracy: 0.4547 - val_loss: 1.0964 - val_accuracy: 0.5395\n",
            "Epoch 2/45\n",
            "460/460 [==============================] - 19s 42ms/step - loss: 0.8272 - accuracy: 0.6386 - val_loss: 0.6963 - val_accuracy: 0.6820\n",
            "Epoch 3/45\n",
            "460/460 [==============================] - 20s 44ms/step - loss: 0.6217 - accuracy: 0.7301 - val_loss: 0.5846 - val_accuracy: 0.7343\n",
            "Epoch 4/45\n",
            "460/460 [==============================] - 20s 43ms/step - loss: 0.4191 - accuracy: 0.8541 - val_loss: 0.4877 - val_accuracy: 0.8137\n",
            "Epoch 5/45\n",
            "460/460 [==============================] - 20s 43ms/step - loss: 0.3240 - accuracy: 0.8985 - val_loss: 0.4493 - val_accuracy: 0.8405\n",
            "Epoch 6/45\n",
            "460/460 [==============================] - 21s 45ms/step - loss: 0.2328 - accuracy: 0.9241 - val_loss: 0.4030 - val_accuracy: 0.8582\n",
            "Epoch 7/45\n",
            "460/460 [==============================] - 21s 45ms/step - loss: 0.2016 - accuracy: 0.9324 - val_loss: 0.3534 - val_accuracy: 0.8819\n",
            "Epoch 8/45\n",
            "460/460 [==============================] - 20s 43ms/step - loss: 0.1825 - accuracy: 0.9370 - val_loss: 0.4078 - val_accuracy: 0.8616\n",
            "Epoch 9/45\n",
            "460/460 [==============================] - 20s 43ms/step - loss: 0.1897 - accuracy: 0.9324 - val_loss: 0.3390 - val_accuracy: 0.8843\n",
            "Epoch 10/45\n",
            "460/460 [==============================] - 20s 44ms/step - loss: 0.1697 - accuracy: 0.9416 - val_loss: 0.3405 - val_accuracy: 0.8887\n",
            "Epoch 11/45\n",
            "460/460 [==============================] - 20s 44ms/step - loss: 0.1579 - accuracy: 0.9426 - val_loss: 0.3943 - val_accuracy: 0.8802\n",
            "Epoch 12/45\n",
            "460/460 [==============================] - 21s 45ms/step - loss: 0.1511 - accuracy: 0.9408 - val_loss: 0.4186 - val_accuracy: 0.8755\n",
            "Epoch 13/45\n",
            "460/460 [==============================] - 20s 42ms/step - loss: 0.1488 - accuracy: 0.9425 - val_loss: 0.4186 - val_accuracy: 0.8884\n",
            "Epoch 14/45\n",
            "460/460 [==============================] - 20s 43ms/step - loss: 0.1442 - accuracy: 0.9442 - val_loss: 0.4016 - val_accuracy: 0.8877\n",
            "Epoch 15/45\n",
            "460/460 [==============================] - 20s 44ms/step - loss: 0.1475 - accuracy: 0.9429 - val_loss: 0.3595 - val_accuracy: 0.8951\n",
            "Epoch 16/45\n",
            "460/460 [==============================] - 20s 43ms/step - loss: 0.1440 - accuracy: 0.9455 - val_loss: 0.3287 - val_accuracy: 0.8989\n",
            "Epoch 17/45\n",
            "460/460 [==============================] - 20s 44ms/step - loss: 0.1421 - accuracy: 0.9437 - val_loss: 0.3875 - val_accuracy: 0.8962\n",
            "Epoch 18/45\n",
            "460/460 [==============================] - 21s 45ms/step - loss: 0.1342 - accuracy: 0.9463 - val_loss: 0.3743 - val_accuracy: 0.9009\n",
            "Epoch 19/45\n",
            "460/460 [==============================] - 20s 45ms/step - loss: 0.1379 - accuracy: 0.9455 - val_loss: 0.3644 - val_accuracy: 0.8911\n",
            "Epoch 20/45\n",
            "460/460 [==============================] - 20s 43ms/step - loss: 0.1380 - accuracy: 0.9461 - val_loss: 0.3709 - val_accuracy: 0.9013\n",
            "Epoch 21/45\n",
            "460/460 [==============================] - 21s 45ms/step - loss: 0.1254 - accuracy: 0.9470 - val_loss: 0.4056 - val_accuracy: 0.8999\n",
            "Epoch 22/45\n",
            "460/460 [==============================] - 20s 44ms/step - loss: 0.1304 - accuracy: 0.9476 - val_loss: 0.4109 - val_accuracy: 0.8982\n",
            "Epoch 23/45\n",
            "460/460 [==============================] - 21s 46ms/step - loss: 0.1221 - accuracy: 0.9513 - val_loss: 0.4216 - val_accuracy: 0.8982\n",
            "Epoch 24/45\n",
            "460/460 [==============================] - 20s 43ms/step - loss: 0.1281 - accuracy: 0.9486 - val_loss: 0.4029 - val_accuracy: 0.8968\n",
            "Epoch 25/45\n",
            "460/460 [==============================] - 20s 43ms/step - loss: 0.1217 - accuracy: 0.9529 - val_loss: 0.5238 - val_accuracy: 0.8758\n",
            "Epoch 26/45\n",
            "460/460 [==============================] - 20s 43ms/step - loss: 0.1243 - accuracy: 0.9504 - val_loss: 0.5409 - val_accuracy: 0.8894\n",
            "Epoch 27/45\n",
            "460/460 [==============================] - 20s 43ms/step - loss: 0.1311 - accuracy: 0.9509 - val_loss: 0.3203 - val_accuracy: 0.9040\n",
            "Epoch 28/45\n",
            "460/460 [==============================] - 20s 43ms/step - loss: 0.1154 - accuracy: 0.9561 - val_loss: 0.3667 - val_accuracy: 0.9040\n",
            "Epoch 29/45\n",
            "460/460 [==============================] - 20s 44ms/step - loss: 0.1277 - accuracy: 0.9498 - val_loss: 0.3264 - val_accuracy: 0.9033\n",
            "Epoch 30/45\n",
            "460/460 [==============================] - 20s 43ms/step - loss: 0.1155 - accuracy: 0.9550 - val_loss: 0.3783 - val_accuracy: 0.9046\n",
            "Epoch 31/45\n",
            "460/460 [==============================] - 21s 45ms/step - loss: 0.1402 - accuracy: 0.9459 - val_loss: 0.3407 - val_accuracy: 0.9019\n",
            "Epoch 32/45\n",
            "460/460 [==============================] - 20s 43ms/step - loss: 0.1281 - accuracy: 0.9513 - val_loss: 0.2695 - val_accuracy: 0.9094\n",
            "Epoch 33/45\n",
            "460/460 [==============================] - 20s 43ms/step - loss: 0.1127 - accuracy: 0.9566 - val_loss: 0.2755 - val_accuracy: 0.9114\n",
            "Epoch 34/45\n",
            "460/460 [==============================] - 19s 42ms/step - loss: 0.1158 - accuracy: 0.9546 - val_loss: 0.2984 - val_accuracy: 0.9189\n",
            "Epoch 35/45\n",
            "460/460 [==============================] - 21s 46ms/step - loss: 0.1113 - accuracy: 0.9551 - val_loss: 0.3233 - val_accuracy: 0.9138\n",
            "Epoch 36/45\n",
            "460/460 [==============================] - 20s 42ms/step - loss: 0.1128 - accuracy: 0.9567 - val_loss: 0.3130 - val_accuracy: 0.9030\n",
            "Epoch 37/45\n",
            "460/460 [==============================] - 20s 43ms/step - loss: 0.1143 - accuracy: 0.9553 - val_loss: 0.2941 - val_accuracy: 0.9104\n",
            "Epoch 38/45\n",
            "460/460 [==============================] - 21s 45ms/step - loss: 0.1181 - accuracy: 0.9581 - val_loss: 0.3025 - val_accuracy: 0.9070\n",
            "Epoch 39/45\n",
            "460/460 [==============================] - 20s 44ms/step - loss: 0.1087 - accuracy: 0.9588 - val_loss: 0.3443 - val_accuracy: 0.9057\n",
            "Epoch 40/45\n",
            "460/460 [==============================] - 20s 44ms/step - loss: 0.1083 - accuracy: 0.9580 - val_loss: 0.3262 - val_accuracy: 0.9128\n",
            "Epoch 41/45\n",
            "460/460 [==============================] - 20s 43ms/step - loss: 0.1280 - accuracy: 0.9553 - val_loss: 0.3236 - val_accuracy: 0.9067\n",
            "Epoch 42/45\n",
            "460/460 [==============================] - 20s 44ms/step - loss: 0.1117 - accuracy: 0.9563 - val_loss: 0.3588 - val_accuracy: 0.9033\n",
            "Epoch 43/45\n",
            "460/460 [==============================] - 20s 43ms/step - loss: 0.1098 - accuracy: 0.9533 - val_loss: 0.3462 - val_accuracy: 0.9094\n",
            "Epoch 44/45\n",
            "460/460 [==============================] - 20s 44ms/step - loss: 0.1055 - accuracy: 0.9599 - val_loss: 0.3421 - val_accuracy: 0.9077\n",
            "Epoch 45/45\n",
            "460/460 [==============================] - 21s 46ms/step - loss: 0.1091 - accuracy: 0.9573 - val_loss: 0.3506 - val_accuracy: 0.9128\n"
          ],
          "name": "stdout"
        },
        {
          "output_type": "execute_result",
          "data": {
            "text/plain": [
              "<tensorflow.python.keras.callbacks.History at 0x7fbc9924a5c0>"
            ]
          },
          "metadata": {
            "tags": []
          },
          "execution_count": 25
        }
      ]
    },
    {
      "cell_type": "code",
      "metadata": {
        "id": "nI3xyVIRBKl9"
      },
      "source": [
        "Y_pred = model.predict(X_test)"
      ],
      "execution_count": null,
      "outputs": []
    },
    {
      "cell_type": "code",
      "metadata": {
        "id": "bRHrhbhlDgkX"
      },
      "source": [
        "pred = np.argmax(Y_pred,axis = 1) \n",
        "Y_actual = np.argmax(Y_test,axis = 1)"
      ],
      "execution_count": null,
      "outputs": []
    },
    {
      "cell_type": "code",
      "metadata": {
        "id": "kPdGlDRlDkfG",
        "outputId": "b0cb8faf-afab-4169-f1b6-71e9f8495605",
        "colab": {
          "base_uri": "https://localhost:8080/"
        }
      },
      "source": [
        "confusion_matrix(Y_actual, pred)"
      ],
      "execution_count": null,
      "outputs": [
        {
          "output_type": "execute_result",
          "data": {
            "text/plain": [
              "array([[479,   8,   9,   0,   0,   0],\n",
              "       [ 28, 443,   0,   0,   0,   0],\n",
              "       [  4,   6, 410,   0,   0,   0],\n",
              "       [  0,   3,   0, 404,  84,   0],\n",
              "       [  0,   0,   0,  88, 444,   0],\n",
              "       [  0,  27,   0,   0,   0, 510]])"
            ]
          },
          "metadata": {
            "tags": []
          },
          "execution_count": 28
        }
      ]
    },
    {
      "cell_type": "code",
      "metadata": {
        "id": "niQUGSSeELGE",
        "outputId": "96b34b5c-56ca-40f8-b658-797b7c8a5add",
        "colab": {
          "base_uri": "https://localhost:8080/"
        }
      },
      "source": [
        "print(classification_report(Y_actual, pred))"
      ],
      "execution_count": null,
      "outputs": [
        {
          "output_type": "stream",
          "text": [
            "              precision    recall  f1-score   support\n",
            "\n",
            "           0       0.94      0.97      0.95       496\n",
            "           1       0.91      0.94      0.92       471\n",
            "           2       0.98      0.98      0.98       420\n",
            "           3       0.82      0.82      0.82       491\n",
            "           4       0.84      0.83      0.84       532\n",
            "           5       1.00      0.95      0.97       537\n",
            "\n",
            "    accuracy                           0.91      2947\n",
            "   macro avg       0.91      0.91      0.91      2947\n",
            "weighted avg       0.91      0.91      0.91      2947\n",
            "\n"
          ],
          "name": "stdout"
        }
      ]
    }
  ]
}