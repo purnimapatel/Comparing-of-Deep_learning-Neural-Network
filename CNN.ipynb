{
  "nbformat": 4,
  "nbformat_minor": 0,
  "metadata": {
    "colab": {
      "name": "CNN.ipynb",
      "provenance": [],
      "authorship_tag": "ABX9TyMKl7k8+Y6oprdw/QvgFKcQ",
      "include_colab_link": true
    },
    "kernelspec": {
      "name": "python3",
      "display_name": "Python 3"
    }
  },
  "cells": [
    {
      "cell_type": "markdown",
      "metadata": {
        "id": "view-in-github",
        "colab_type": "text"
      },
      "source": [
        "<a href=\"https://colab.research.google.com/github/purnimapatel/Comparing-of-Deep_learning-Neural-Network/blob/main/CNN.ipynb\" target=\"_parent\"><img src=\"https://colab.research.google.com/assets/colab-badge.svg\" alt=\"Open In Colab\"/></a>"
      ]
    },
    {
      "cell_type": "code",
      "metadata": {
        "id": "U8xQjklfkQpU"
      },
      "source": [
        "#import the libraries\n",
        "import numpy as np\n",
        "import pandas as pd\n",
        "from matplotlib import pyplot\n",
        "from keras.models import Sequential\n",
        "from keras.layers import Dense\n",
        "from keras.layers import Flatten\n",
        "from keras.layers import Dropout\n",
        "from sklearn.preprocessing import StandardScaler\n",
        "from sklearn.metrics import classification_report, confusion_matrix\n",
        "from keras.layers.convolutional import Conv1D\n",
        "from keras.layers.convolutional import MaxPooling1D\n",
        "from keras.utils import to_categorical\n",
        "from keras.models import Sequential\n",
        "from keras.layers.core import Dense, Dropout\n"
      ],
      "execution_count": 2,
      "outputs": []
    },
    {
      "cell_type": "code",
      "metadata": {
        "id": "7SRjlM85EVV2",
        "outputId": "e9418577-c8a3-46b5-fdd2-f6e2d4c3f7b0",
        "colab": {
          "base_uri": "https://localhost:8080/"
        }
      },
      "source": [
        "#opening the zip-file\n",
        "from zipfile import ZipFile\n",
        "file_name=\"UCI HAR Dataset.zip\"\n",
        "with ZipFile(file_name,'r') as zip:\n",
        "  zip.extractall()\n",
        "  print(\"DONE\")"
      ],
      "execution_count": 3,
      "outputs": [
        {
          "output_type": "stream",
          "text": [
            "DONE\n"
          ],
          "name": "stdout"
        }
      ]
    },
    {
      "cell_type": "code",
      "metadata": {
        "id": "asgmbPmFEtNF"
      },
      "source": [
        "#those are separate normalised input features for the neural network\n",
        "SIGNALS = [\n",
        "    \"body_acc_x\",\n",
        "    \"body_acc_y\",\n",
        "    \"body_acc_z\",\n",
        "    \"body_gyro_x\",\n",
        "    \"body_gyro_y\",\n",
        "    \"body_gyro_z\",\n",
        "    \"total_acc_x\",\n",
        "    \"total_acc_y\",\n",
        "    \"total_acc_z\"\n",
        "]\n",
        "# Output classes to learn how to classify\n",
        "LABELS = [\n",
        "    \"WALKING\",\n",
        "    \"WALKING_UPSTAIRS\",\n",
        "    \"WALKING_DOWNSTAIRS\",\n",
        "    \"SITTING\",\n",
        "    \"STANDING\",\n",
        "    \"LAYING\"\n",
        "]"
      ],
      "execution_count": 4,
      "outputs": []
    },
    {
      "cell_type": "code",
      "metadata": {
        "id": "BIeech3DEuaM"
      },
      "source": [
        "# Utility function to read the data from csv file\n",
        "def _read_csv(filename):\n",
        "    return pd.read_csv(filename, delim_whitespace=True, header=None)\n",
        "\n",
        "# Utility function to load the load_signals\n",
        "def load_signals(subset):\n",
        "    signals_data = []\n",
        "\n",
        "    for signal in SIGNALS:\n",
        "        filename = f'/content/UCI HAR Dataset/{subset}/Inertial Signals/{signal}_{subset}.txt'\n",
        "        #/content/UCI HAR Dataset/train/Inertial Signals\n",
        "        #/content/UCI HAR Dataset/train/Inertial Signals/body_acc_x_train.txt\n",
        "        signals_data.append(\n",
        "            _read_csv(filename).to_numpy()\n",
        "        ) \n",
        "\n",
        "    # Transpose is used to change the dimensionality of the output,\n",
        "    # aggregating the signals by combination of sample/timestep.\n",
        "    # Resultant shape is (7352 train/2947 test samples, 128 timesteps, 9 signals)\n",
        "    return np.transpose(signals_data, (1, 2, 0))"
      ],
      "execution_count": 5,
      "outputs": []
    },
    {
      "cell_type": "code",
      "metadata": {
        "id": "pc4lx4DOE1C_"
      },
      "source": [
        "def load_y(subset):\n",
        "    filename = f'/content/UCI HAR Dataset/{subset}/y_{subset}.txt'\n",
        "    y = _read_csv(filename)[0]\n",
        "\n",
        "    return pd.get_dummies(y).to_numpy()"
      ],
      "execution_count": 6,
      "outputs": []
    },
    {
      "cell_type": "code",
      "metadata": {
        "id": "zChTVcV7FAak"
      },
      "source": [
        "def load_data():\n",
        "    \"\"\"\n",
        "    Obtain the dataset from multiple files.\n",
        "    Returns: X_train, X_test, Y_train, Y_test\n",
        "    \"\"\"\n",
        "    X_train, X_test = load_signals('train'), load_signals('test')\n",
        "    Y_train, Y_test = load_y('train'), load_y('test')\n",
        "\n",
        "    return X_train, Y_train, X_test,  Y_test"
      ],
      "execution_count": 7,
      "outputs": []
    },
    {
      "cell_type": "code",
      "metadata": {
        "id": "gajiuY_PJVrv"
      },
      "source": [
        "# Loading the train and test data\n",
        "X_train, Y_train, X_test,  Y_test = load_data()"
      ],
      "execution_count": 8,
      "outputs": []
    },
    {
      "cell_type": "code",
      "metadata": {
        "id": "dy4WII0cJIDN",
        "outputId": "76a5da02-257c-4ad5-9d81-196d782a9a51",
        "colab": {
          "base_uri": "https://localhost:8080/"
        }
      },
      "source": [
        "print(X_train.shape)\n",
        "print(Y_train.shape)\n",
        "print(X_test.shape)\n",
        "print(Y_test.shape)"
      ],
      "execution_count": 9,
      "outputs": [
        {
          "output_type": "stream",
          "text": [
            "(7352, 128, 9)\n",
            "(7352, 6)\n",
            "(2947, 128, 9)\n",
            "(2947, 6)\n"
          ],
          "name": "stdout"
        }
      ]
    },
    {
      "cell_type": "code",
      "metadata": {
        "id": "OUdgHj3RFDzX"
      },
      "source": [
        "from sklearn.base import BaseEstimator, TransformerMixin\n",
        "class scaling_tseries_data(BaseEstimator, TransformerMixin):\n",
        "    from sklearn.preprocessing import StandardScaler\n",
        "    def __init__(self):\n",
        "        self.scale = None\n",
        "\n",
        "    def transform(self, X):\n",
        "        temp_X1 = X.reshape((X.shape[0] * X.shape[1], X.shape[2]))\n",
        "        temp_X1 = self.scale.transform(temp_X1)\n",
        "        return temp_X1.reshape(X.shape)\n",
        "\n",
        "    def fit(self, X):\n",
        "        # remove overlaping\n",
        "        remove = int(X.shape[1] / 2)\n",
        "        temp_X = X[:, -remove:, :]\n",
        "        # flatten data\n",
        "        temp_X = temp_X.reshape((temp_X.shape[0] * temp_X.shape[1], temp_X.shape[2]))\n",
        "        scale = StandardScaler()\n",
        "        scale.fit(temp_X)\n",
        "        self.scale = scale\n",
        "        return self"
      ],
      "execution_count": 10,
      "outputs": []
    },
    {
      "cell_type": "code",
      "metadata": {
        "id": "qprVSQjFInCz"
      },
      "source": [
        "Scale = scaling_tseries_data()\n",
        "Scale.fit(X_train)\n",
        "X_train_sc = Scale.transform(X_train)\n",
        "X_test_sc = Scale.transform(X_test)"
      ],
      "execution_count": 11,
      "outputs": []
    },
    {
      "cell_type": "code",
      "metadata": {
        "id": "WMdLuvVuIoPs",
        "outputId": "6d21340c-4e61-4976-a362-201f0697630a",
        "colab": {
          "base_uri": "https://localhost:8080/"
        }
      },
      "source": [
        "print('Scaled_X_train',X_train_sc.shape)\n",
        "print('Scaled_X_test',X_test_sc.shape)"
      ],
      "execution_count": 12,
      "outputs": [
        {
          "output_type": "stream",
          "text": [
            "Scaled_X_train (7352, 128, 9)\n",
            "Scaled_X_test (2947, 128, 9)\n"
          ],
          "name": "stdout"
        }
      ]
    },
    {
      "cell_type": "markdown",
      "metadata": {
        "id": "GC6vZCnTJ1HN"
      },
      "source": [
        "**Base_Model of CNN**"
      ]
    },
    {
      "cell_type": "code",
      "metadata": {
        "id": "2yF-tBsHJ8Db",
        "outputId": "c66b5a37-957a-4976-8c6a-0685c80f9133",
        "colab": {
          "base_uri": "https://localhost:8080/"
        }
      },
      "source": [
        "model = Sequential()\n",
        "model.add(Conv1D(filters=32, kernel_size=3, activation='relu',kernel_initializer='he_uniform',input_shape=(128,9)))\n",
        "model.add(Conv1D(filters=32, kernel_size=3, activation='relu',kernel_initializer='he_uniform'))\n",
        "model.add(Dropout(0.6))\n",
        "model.add(MaxPooling1D(pool_size=2))\n",
        "model.add(Flatten())\n",
        "model.add(Dense(50, activation='relu'))\n",
        "model.add(Dense(6, activation='softmax'))\n",
        "model.summary()"
      ],
      "execution_count": 13,
      "outputs": [
        {
          "output_type": "stream",
          "text": [
            "Model: \"sequential\"\n",
            "_________________________________________________________________\n",
            "Layer (type)                 Output Shape              Param #   \n",
            "=================================================================\n",
            "conv1d (Conv1D)              (None, 126, 32)           896       \n",
            "_________________________________________________________________\n",
            "conv1d_1 (Conv1D)            (None, 124, 32)           3104      \n",
            "_________________________________________________________________\n",
            "dropout (Dropout)            (None, 124, 32)           0         \n",
            "_________________________________________________________________\n",
            "max_pooling1d (MaxPooling1D) (None, 62, 32)            0         \n",
            "_________________________________________________________________\n",
            "flatten (Flatten)            (None, 1984)              0         \n",
            "_________________________________________________________________\n",
            "dense (Dense)                (None, 50)                99250     \n",
            "_________________________________________________________________\n",
            "dense_1 (Dense)              (None, 6)                 306       \n",
            "=================================================================\n",
            "Total params: 103,556\n",
            "Trainable params: 103,556\n",
            "Non-trainable params: 0\n",
            "_________________________________________________________________\n"
          ],
          "name": "stdout"
        }
      ]
    },
    {
      "cell_type": "code",
      "metadata": {
        "id": "-Q8rHAgoKFWM"
      },
      "source": [
        "model.compile(loss='categorical_crossentropy', optimizer='adam', metrics=['accuracy'])"
      ],
      "execution_count": 14,
      "outputs": []
    },
    {
      "cell_type": "code",
      "metadata": {
        "id": "DRcYI48pKLe-",
        "outputId": "0cd6828c-e012-44e5-f300-c62a61317d73",
        "colab": {
          "base_uri": "https://localhost:8080/"
        }
      },
      "source": [
        "model.fit(X_train_sc,Y_train, epochs=45, batch_size=16,validation_data=(X_test_sc, Y_test), verbose=1)"
      ],
      "execution_count": 15,
      "outputs": [
        {
          "output_type": "stream",
          "text": [
            "Epoch 1/45\n",
            "460/460 [==============================] - 4s 8ms/step - loss: 0.4015 - accuracy: 0.8504 - val_loss: 0.2982 - val_accuracy: 0.8958\n",
            "Epoch 2/45\n",
            "460/460 [==============================] - 4s 8ms/step - loss: 0.1246 - accuracy: 0.9464 - val_loss: 0.3314 - val_accuracy: 0.8941\n",
            "Epoch 3/45\n",
            "460/460 [==============================] - 4s 8ms/step - loss: 0.1039 - accuracy: 0.9578 - val_loss: 0.2686 - val_accuracy: 0.9080\n",
            "Epoch 4/45\n",
            "460/460 [==============================] - 4s 8ms/step - loss: 0.1044 - accuracy: 0.9546 - val_loss: 0.3231 - val_accuracy: 0.9074\n",
            "Epoch 5/45\n",
            "460/460 [==============================] - 4s 8ms/step - loss: 0.0906 - accuracy: 0.9574 - val_loss: 0.3403 - val_accuracy: 0.8897\n",
            "Epoch 6/45\n",
            "460/460 [==============================] - 4s 8ms/step - loss: 0.0881 - accuracy: 0.9596 - val_loss: 0.3297 - val_accuracy: 0.9040\n",
            "Epoch 7/45\n",
            "460/460 [==============================] - 4s 8ms/step - loss: 0.0766 - accuracy: 0.9652 - val_loss: 0.3619 - val_accuracy: 0.9087\n",
            "Epoch 8/45\n",
            "460/460 [==============================] - 4s 8ms/step - loss: 0.0741 - accuracy: 0.9659 - val_loss: 0.3833 - val_accuracy: 0.8958\n",
            "Epoch 9/45\n",
            "460/460 [==============================] - 4s 8ms/step - loss: 0.0881 - accuracy: 0.9629 - val_loss: 0.3757 - val_accuracy: 0.9070\n",
            "Epoch 10/45\n",
            "460/460 [==============================] - 4s 8ms/step - loss: 0.0690 - accuracy: 0.9678 - val_loss: 0.4071 - val_accuracy: 0.8951\n",
            "Epoch 11/45\n",
            "460/460 [==============================] - 4s 8ms/step - loss: 0.0641 - accuracy: 0.9710 - val_loss: 0.5024 - val_accuracy: 0.8809\n",
            "Epoch 12/45\n",
            "460/460 [==============================] - 4s 8ms/step - loss: 0.0611 - accuracy: 0.9717 - val_loss: 0.4155 - val_accuracy: 0.9030\n",
            "Epoch 13/45\n",
            "460/460 [==============================] - 4s 8ms/step - loss: 0.0641 - accuracy: 0.9731 - val_loss: 0.4468 - val_accuracy: 0.9053\n",
            "Epoch 14/45\n",
            "460/460 [==============================] - 4s 8ms/step - loss: 0.0538 - accuracy: 0.9762 - val_loss: 0.4687 - val_accuracy: 0.9046\n",
            "Epoch 15/45\n",
            "460/460 [==============================] - 4s 8ms/step - loss: 0.0543 - accuracy: 0.9762 - val_loss: 0.4648 - val_accuracy: 0.9050\n",
            "Epoch 16/45\n",
            "460/460 [==============================] - 4s 8ms/step - loss: 0.0496 - accuracy: 0.9771 - val_loss: 0.6338 - val_accuracy: 0.8843\n",
            "Epoch 17/45\n",
            "460/460 [==============================] - 3s 8ms/step - loss: 0.0602 - accuracy: 0.9776 - val_loss: 0.6525 - val_accuracy: 0.9033\n",
            "Epoch 18/45\n",
            "460/460 [==============================] - 4s 8ms/step - loss: 0.0574 - accuracy: 0.9784 - val_loss: 0.4936 - val_accuracy: 0.9135\n",
            "Epoch 19/45\n",
            "460/460 [==============================] - 4s 8ms/step - loss: 0.0466 - accuracy: 0.9793 - val_loss: 0.4913 - val_accuracy: 0.9148\n",
            "Epoch 20/45\n",
            "460/460 [==============================] - 4s 8ms/step - loss: 0.0538 - accuracy: 0.9784 - val_loss: 0.5831 - val_accuracy: 0.9013\n",
            "Epoch 21/45\n",
            "460/460 [==============================] - 3s 8ms/step - loss: 0.0471 - accuracy: 0.9805 - val_loss: 0.8068 - val_accuracy: 0.8962\n",
            "Epoch 22/45\n",
            "460/460 [==============================] - 4s 8ms/step - loss: 0.0432 - accuracy: 0.9826 - val_loss: 0.5415 - val_accuracy: 0.9135\n",
            "Epoch 23/45\n",
            "460/460 [==============================] - 3s 8ms/step - loss: 0.0378 - accuracy: 0.9838 - val_loss: 0.5564 - val_accuracy: 0.9118\n",
            "Epoch 24/45\n",
            "460/460 [==============================] - 3s 8ms/step - loss: 0.0345 - accuracy: 0.9867 - val_loss: 0.6065 - val_accuracy: 0.9036\n",
            "Epoch 25/45\n",
            "460/460 [==============================] - 4s 8ms/step - loss: 0.0385 - accuracy: 0.9829 - val_loss: 0.6803 - val_accuracy: 0.9067\n",
            "Epoch 26/45\n",
            "460/460 [==============================] - 4s 8ms/step - loss: 0.0471 - accuracy: 0.9829 - val_loss: 0.8558 - val_accuracy: 0.8799\n",
            "Epoch 27/45\n",
            "460/460 [==============================] - 3s 8ms/step - loss: 0.0445 - accuracy: 0.9839 - val_loss: 0.6899 - val_accuracy: 0.9036\n",
            "Epoch 28/45\n",
            "460/460 [==============================] - 4s 8ms/step - loss: 0.0392 - accuracy: 0.9842 - val_loss: 0.5781 - val_accuracy: 0.9145\n",
            "Epoch 29/45\n",
            "460/460 [==============================] - 3s 8ms/step - loss: 0.0331 - accuracy: 0.9865 - val_loss: 0.6474 - val_accuracy: 0.9009\n",
            "Epoch 30/45\n",
            "460/460 [==============================] - 4s 8ms/step - loss: 0.0304 - accuracy: 0.9871 - val_loss: 0.7405 - val_accuracy: 0.9074\n",
            "Epoch 31/45\n",
            "460/460 [==============================] - 4s 8ms/step - loss: 0.0439 - accuracy: 0.9876 - val_loss: 0.7349 - val_accuracy: 0.9152\n",
            "Epoch 32/45\n",
            "460/460 [==============================] - 4s 8ms/step - loss: 0.0305 - accuracy: 0.9871 - val_loss: 0.9030 - val_accuracy: 0.8996\n",
            "Epoch 33/45\n",
            "460/460 [==============================] - 4s 8ms/step - loss: 0.0335 - accuracy: 0.9875 - val_loss: 0.7867 - val_accuracy: 0.9006\n",
            "Epoch 34/45\n",
            "460/460 [==============================] - 4s 8ms/step - loss: 0.0219 - accuracy: 0.9910 - val_loss: 0.9799 - val_accuracy: 0.8904\n",
            "Epoch 35/45\n",
            "460/460 [==============================] - 4s 8ms/step - loss: 0.0262 - accuracy: 0.9887 - val_loss: 0.7935 - val_accuracy: 0.9135\n",
            "Epoch 36/45\n",
            "460/460 [==============================] - 3s 8ms/step - loss: 0.0366 - accuracy: 0.9872 - val_loss: 0.7544 - val_accuracy: 0.9074\n",
            "Epoch 37/45\n",
            "460/460 [==============================] - 3s 7ms/step - loss: 0.0320 - accuracy: 0.9890 - val_loss: 1.0119 - val_accuracy: 0.8948\n",
            "Epoch 38/45\n",
            "460/460 [==============================] - 3s 7ms/step - loss: 0.0279 - accuracy: 0.9894 - val_loss: 0.9638 - val_accuracy: 0.8897\n",
            "Epoch 39/45\n",
            "460/460 [==============================] - 3s 8ms/step - loss: 0.0330 - accuracy: 0.9884 - val_loss: 1.0674 - val_accuracy: 0.8951\n",
            "Epoch 40/45\n",
            "460/460 [==============================] - 3s 7ms/step - loss: 0.0267 - accuracy: 0.9902 - val_loss: 0.8566 - val_accuracy: 0.9084\n",
            "Epoch 41/45\n",
            "460/460 [==============================] - 3s 8ms/step - loss: 0.0216 - accuracy: 0.9910 - val_loss: 1.0639 - val_accuracy: 0.8985\n",
            "Epoch 42/45\n",
            "460/460 [==============================] - 3s 8ms/step - loss: 0.0202 - accuracy: 0.9918 - val_loss: 0.9315 - val_accuracy: 0.9070\n",
            "Epoch 43/45\n",
            "460/460 [==============================] - 3s 8ms/step - loss: 0.0217 - accuracy: 0.9927 - val_loss: 1.0560 - val_accuracy: 0.8941\n",
            "Epoch 44/45\n",
            "460/460 [==============================] - 4s 8ms/step - loss: 0.0243 - accuracy: 0.9922 - val_loss: 1.0883 - val_accuracy: 0.9050\n",
            "Epoch 45/45\n",
            "460/460 [==============================] - 4s 8ms/step - loss: 0.0713 - accuracy: 0.9886 - val_loss: 0.7990 - val_accuracy: 0.9013\n"
          ],
          "name": "stdout"
        },
        {
          "output_type": "execute_result",
          "data": {
            "text/plain": [
              "<tensorflow.python.keras.callbacks.History at 0x7fd32e09bb38>"
            ]
          },
          "metadata": {
            "tags": []
          },
          "execution_count": 15
        }
      ]
    },
    {
      "cell_type": "code",
      "metadata": {
        "id": "QIYOJsUUK7bU"
      },
      "source": [
        "Y_pred = model.predict(X_test_sc)"
      ],
      "execution_count": 16,
      "outputs": []
    },
    {
      "cell_type": "code",
      "metadata": {
        "id": "MqHlFVZhLI6L"
      },
      "source": [
        "pred = np.argmax(Y_pred,axis = 1) \n",
        "Y_actual = np.argmax(Y_test,axis = 1)"
      ],
      "execution_count": 17,
      "outputs": []
    },
    {
      "cell_type": "code",
      "metadata": {
        "id": "jffznYYdO9o9",
        "outputId": "62943a23-20bd-42bb-be63-517191656de3",
        "colab": {
          "base_uri": "https://localhost:8080/"
        }
      },
      "source": [
        "confusion_matrix(Y_actual, pred)"
      ],
      "execution_count": 18,
      "outputs": [
        {
          "output_type": "execute_result",
          "data": {
            "text/plain": [
              "array([[464,   3,  27,   1,   1,   0],\n",
              "       [  6, 436,  29,   0,   0,   0],\n",
              "       [  1,   0, 419,   0,   0,   0],\n",
              "       [  3,   5,   0, 385,  77,  21],\n",
              "       [  1,   1,   0, 115, 415,   0],\n",
              "       [  0,   0,   0,   0,   0, 537]])"
            ]
          },
          "metadata": {
            "tags": []
          },
          "execution_count": 18
        }
      ]
    },
    {
      "cell_type": "code",
      "metadata": {
        "id": "mi7XUg9EPAT6",
        "outputId": "24ef1d30-781b-48d9-f1e4-75be7815e3d0",
        "colab": {
          "base_uri": "https://localhost:8080/"
        }
      },
      "source": [
        "print(classification_report(Y_actual, pred))"
      ],
      "execution_count": 19,
      "outputs": [
        {
          "output_type": "stream",
          "text": [
            "              precision    recall  f1-score   support\n",
            "\n",
            "           0       0.98      0.94      0.96       496\n",
            "           1       0.98      0.93      0.95       471\n",
            "           2       0.88      1.00      0.94       420\n",
            "           3       0.77      0.78      0.78       491\n",
            "           4       0.84      0.78      0.81       532\n",
            "           5       0.96      1.00      0.98       537\n",
            "\n",
            "    accuracy                           0.90      2947\n",
            "   macro avg       0.90      0.90      0.90      2947\n",
            "weighted avg       0.90      0.90      0.90      2947\n",
            "\n"
          ],
          "name": "stdout"
        }
      ]
    }
  ]
}