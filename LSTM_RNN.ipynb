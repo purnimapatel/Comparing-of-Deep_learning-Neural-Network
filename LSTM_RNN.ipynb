{
  "nbformat": 4,
  "nbformat_minor": 0,
  "metadata": {
    "colab": {
      "name": "LSTM_RNN.ipynb",
      "provenance": [],
      "collapsed_sections": [],
      "toc_visible": true,
      "authorship_tag": "ABX9TyMq5vd3uc89RCZ9MM5qXa0J",
      "include_colab_link": true
    },
    "kernelspec": {
      "name": "python3",
      "display_name": "Python 3"
    }
  },
  "cells": [
    {
      "cell_type": "markdown",
      "metadata": {
        "id": "view-in-github",
        "colab_type": "text"
      },
      "source": [
        "<a href=\"https://colab.research.google.com/github/purnimapatel/Comparing-of-Deep_learning-Neural-Network/blob/main/LSTM_RNN.ipynb\" target=\"_parent\"><img src=\"https://colab.research.google.com/assets/colab-badge.svg\" alt=\"Open In Colab\"/></a>"
      ]
    },
    {
      "cell_type": "code",
      "metadata": {
        "id": "fLgxrlFwVKf5"
      },
      "source": [
        "#import the libraries\n",
        "import numpy as np\n",
        "import pandas as pd\n",
        "#from numpy import mean\n",
        "#from numpy import std\n",
        "#from numpy import dstack\n",
        "from matplotlib import pyplot\n",
        "from keras.models import Sequential\n",
        "from keras.layers import Dense\n",
        "from keras.layers import Flatten\n",
        "from keras.layers import Dropout\n",
        "from sklearn.preprocessing import StandardScaler\n",
        "from keras.layers import LSTM\n",
        "from keras.layers.convolutional import Conv1D\n",
        "from keras.layers.convolutional import MaxPooling1D\n",
        "from keras.utils import to_categorical\n",
        "from keras.models import Sequential\n",
        "from keras.layers.core import Dense, Dropout"
      ],
      "execution_count": 1,
      "outputs": []
    },
    {
      "cell_type": "code",
      "metadata": {
        "id": "nNERCUvsehEu",
        "outputId": "e920f9df-08b9-4980-a924-c58df2e9e809",
        "colab": {
          "base_uri": "https://localhost:8080/"
        }
      },
      "source": [
        "#opening the zip-file\n",
        "from zipfile import ZipFile\n",
        "file_name1=\"UCI HAR Dataset.zip\"\n",
        "with ZipFile(file_name1,'r') as zip:\n",
        "  zip.extractall()\n",
        "  print(\"DONE_1\")\n"
      ],
      "execution_count": 2,
      "outputs": [
        {
          "output_type": "stream",
          "text": [
            "DONE_1\n"
          ],
          "name": "stdout"
        }
      ]
    },
    {
      "cell_type": "code",
      "metadata": {
        "id": "S98dSPcfkhZC"
      },
      "source": [
        "#those are separate normalised input features for the neural network\n",
        "SIGNALS = [\n",
        "    \"body_acc_x\",\n",
        "    \"body_acc_y\",\n",
        "    \"body_acc_z\",\n",
        "    \"body_gyro_x\",\n",
        "    \"body_gyro_y\",\n",
        "    \"body_gyro_z\",\n",
        "    \"total_acc_x\",\n",
        "    \"total_acc_y\",\n",
        "    \"total_acc_z\"\n",
        "]\n",
        "# Output classes to learn how to classify\n",
        "LABELS = [\n",
        "    \"WALKING\",\n",
        "    \"WALKING_UPSTAIRS\",\n",
        "    \"WALKING_DOWNSTAIRS\",\n",
        "    \"SITTING\",\n",
        "    \"STANDING\",\n",
        "    \"LAYING\"\n",
        "]"
      ],
      "execution_count": 3,
      "outputs": []
    },
    {
      "cell_type": "code",
      "metadata": {
        "id": "o_kED8f3eRFn"
      },
      "source": [
        "# Utility function to read the data from csv file\n",
        "def _read_csv(filename):\n",
        "    return pd.read_csv(filename, delim_whitespace=True, header=None)\n",
        "\n",
        "# Utility function to load the load_signals\n",
        "def load_signals(subset):\n",
        "    signals_data = []\n",
        "\n",
        "    for signal in SIGNALS:\n",
        "        filename = f'/content/UCI HAR Dataset/{subset}/Inertial Signals/{signal}_{subset}.txt'\n",
        "        #/content/UCI HAR Dataset/train/Inertial Signals\n",
        "        #/content/UCI HAR Dataset/train/Inertial Signals/body_acc_x_train.txt\n",
        "        signals_data.append(\n",
        "            _read_csv(filename).to_numpy()\n",
        "        ) \n",
        "\n",
        "    # Transpose is used to change the dimensionality of the output,\n",
        "    # aggregating the signals by combination of sample/timestep.\n",
        "    # Resultant shape is (7352 train/2947 test samples, 128 timesteps, 9 signals)\n",
        "    return np.transpose(signals_data, (1, 2, 0))"
      ],
      "execution_count": 4,
      "outputs": []
    },
    {
      "cell_type": "code",
      "metadata": {
        "id": "Qo134blGjnxJ"
      },
      "source": [
        "def load_y(subset):\n",
        "    filename = f'/content/UCI HAR Dataset/{subset}/y_{subset}.txt'\n",
        "    y = _read_csv(filename)[0]\n",
        "\n",
        "    return pd.get_dummies(y).to_numpy()"
      ],
      "execution_count": 5,
      "outputs": []
    },
    {
      "cell_type": "code",
      "metadata": {
        "id": "lBWfaN-1j99l"
      },
      "source": [
        "def load_data():\n",
        "    \"\"\"\n",
        "    Obtain the dataset from multiple files.\n",
        "    Returns: X_train, X_test, y_train, y_test\n",
        "    \"\"\"\n",
        "    X_train, X_test = load_signals('train'), load_signals('test')\n",
        "    y_train, y_test = load_y('train'), load_y('test')\n",
        "\n",
        "    return X_train, y_train, X_test,  y_test"
      ],
      "execution_count": 6,
      "outputs": []
    },
    {
      "cell_type": "code",
      "metadata": {
        "id": "QGovNDeGoczL"
      },
      "source": [
        "# Importing tensorflow\n",
        "np.random.seed(42)\n",
        "import tensorflow as tf\n",
        "tf.random.set_seed(42)"
      ],
      "execution_count": 7,
      "outputs": []
    },
    {
      "cell_type": "code",
      "metadata": {
        "id": "XRiK4PrUowt8"
      },
      "source": [
        "# Initializing parameters\n",
        "epochs = 30\n",
        "batch_size = 16\n",
        "n_hidden = 32"
      ],
      "execution_count": 8,
      "outputs": []
    },
    {
      "cell_type": "code",
      "metadata": {
        "id": "HpRXkDNHpC9x"
      },
      "source": [
        "# Utility function to count the number of classes\n",
        "def _count_classes(y):\n",
        "    return len(set([tuple(category) for category in y]))"
      ],
      "execution_count": 9,
      "outputs": []
    },
    {
      "cell_type": "code",
      "metadata": {
        "id": "hT9KJhAZpQp_"
      },
      "source": [
        "# Loading the train and test data\n",
        "X_train, Y_train, X_test,  Y_test = load_data()"
      ],
      "execution_count": 10,
      "outputs": []
    },
    {
      "cell_type": "code",
      "metadata": {
        "id": "9PqbSmNoosT1",
        "outputId": "204dbbc3-8cbb-456f-d7ca-ee377e30ede0",
        "colab": {
          "base_uri": "https://localhost:8080/"
        }
      },
      "source": [
        "print(X_train.shape)"
      ],
      "execution_count": 11,
      "outputs": [
        {
          "output_type": "stream",
          "text": [
            "(7352, 128, 9)\n"
          ],
          "name": "stdout"
        }
      ]
    },
    {
      "cell_type": "code",
      "metadata": {
        "id": "0iEvX7fSoxvX",
        "outputId": "34489c68-b403-4862-d3a3-665fd48e09aa",
        "colab": {
          "base_uri": "https://localhost:8080/"
        }
      },
      "source": [
        "print(X_test.shape)"
      ],
      "execution_count": 12,
      "outputs": [
        {
          "output_type": "stream",
          "text": [
            "(2947, 128, 9)\n"
          ],
          "name": "stdout"
        }
      ]
    },
    {
      "cell_type": "code",
      "metadata": {
        "id": "USFZRtzMo25W",
        "outputId": "979c575b-dd5a-4866-cb1f-97e1cdd592ed",
        "colab": {
          "base_uri": "https://localhost:8080/"
        }
      },
      "source": [
        "print(Y_train.shape)"
      ],
      "execution_count": 13,
      "outputs": [
        {
          "output_type": "stream",
          "text": [
            "(7352, 6)\n"
          ],
          "name": "stdout"
        }
      ]
    },
    {
      "cell_type": "code",
      "metadata": {
        "id": "Yu4DJFo_o8Wi",
        "outputId": "177b3f50-af84-48bb-ed93-70f0da03bc6d",
        "colab": {
          "base_uri": "https://localhost:8080/"
        }
      },
      "source": [
        "print(Y_test.shape)"
      ],
      "execution_count": 14,
      "outputs": [
        {
          "output_type": "stream",
          "text": [
            "(2947, 6)\n"
          ],
          "name": "stdout"
        }
      ]
    },
    {
      "cell_type": "code",
      "metadata": {
        "id": "F-EEDeEPpARt",
        "outputId": "13029b2e-d324-430d-e5cc-df881c8cc8c0",
        "colab": {
          "base_uri": "https://localhost:8080/"
        }
      },
      "source": [
        "training_data_count = len(X_train)\n",
        "test_data_count = len(X_test) \n",
        "print(training_data_count)\n",
        "print(test_data_count)"
      ],
      "execution_count": 15,
      "outputs": [
        {
          "output_type": "stream",
          "text": [
            "7352\n",
            "2947\n"
          ],
          "name": "stdout"
        }
      ]
    },
    {
      "cell_type": "markdown",
      "metadata": {
        "id": "CSovOjBPiT-l"
      },
      "source": [
        "# LSTM_RNN\n"
      ]
    },
    {
      "cell_type": "code",
      "metadata": {
        "id": "r4vgLhBkiaCL"
      },
      "source": [
        "# Importing tensorflow\n",
        "np.random.seed(42)\n",
        "import tensorflow as tf\n",
        "tf.random.set_seed(42)"
      ],
      "execution_count": 16,
      "outputs": []
    },
    {
      "cell_type": "code",
      "metadata": {
        "id": "WelICRKikAs0"
      },
      "source": [
        "# initialising the parameters\n",
        "epochs = 30\n",
        "batch_size = 16\n",
        "n_hidden = 32"
      ],
      "execution_count": 17,
      "outputs": []
    },
    {
      "cell_type": "code",
      "metadata": {
        "id": "JGFrCl1Nnvpq",
        "outputId": "ae28e6b2-4b2d-475d-c997-23ee671cf0ea",
        "colab": {
          "base_uri": "https://localhost:8080/"
        }
      },
      "source": [
        "timesteps = len(X_train[0])\n",
        "input_dim = len(X_train[0][0])\n",
        "n_classes = _count_classes(Y_train)\n",
        "#n_classes be 6\n",
        "print(timesteps)\n",
        "print(input_dim)\n",
        "print(len(X_train))\n",
        "print(n_classes)"
      ],
      "execution_count": 19,
      "outputs": [
        {
          "output_type": "stream",
          "text": [
            "128\n",
            "9\n",
            "7352\n",
            "6\n"
          ],
          "name": "stdout"
        }
      ]
    },
    {
      "cell_type": "markdown",
      "metadata": {
        "id": "cWnhOI_IoU7G"
      },
      "source": [
        "**Base_model of LSTM-RNN**\n"
      ]
    },
    {
      "cell_type": "code",
      "metadata": {
        "id": "mhMW4pvyopGH",
        "outputId": "246d014d-64ae-4884-d865-14a08dae1bb1",
        "colab": {
          "base_uri": "https://localhost:8080/"
        }
      },
      "source": [
        "# Initiliazing the sequential model\n",
        "model = Sequential()\n",
        "# Configuring the parameters\n",
        "model.add(LSTM(n_hidden, input_shape=(timesteps, input_dim)))\n",
        "# Adding a dropout layer\n",
        "model.add(Dropout(0.5))\n",
        "# Adding a dense output layer with sigmoid activation\n",
        "model.add(Dense(n_classes, activation='sigmoid'))\n",
        "model.summary()"
      ],
      "execution_count": 20,
      "outputs": [
        {
          "output_type": "stream",
          "text": [
            "Model: \"sequential\"\n",
            "_________________________________________________________________\n",
            "Layer (type)                 Output Shape              Param #   \n",
            "=================================================================\n",
            "lstm (LSTM)                  (None, 32)                5376      \n",
            "_________________________________________________________________\n",
            "dropout (Dropout)            (None, 32)                0         \n",
            "_________________________________________________________________\n",
            "dense (Dense)                (None, 6)                 198       \n",
            "=================================================================\n",
            "Total params: 5,574\n",
            "Trainable params: 5,574\n",
            "Non-trainable params: 0\n",
            "_________________________________________________________________\n"
          ],
          "name": "stdout"
        }
      ]
    },
    {
      "cell_type": "code",
      "metadata": {
        "id": "IS7YHdq1phGQ"
      },
      "source": [
        "# Compiling the model\n",
        "model.compile(loss='categorical_crossentropy',\n",
        "              optimizer='rmsprop',\n",
        "              metrics=['accuracy'])"
      ],
      "execution_count": 21,
      "outputs": []
    },
    {
      "cell_type": "code",
      "metadata": {
        "id": "tCtUC2dQpj2L",
        "outputId": "b8c1fe53-6eef-4b6a-9ccf-8697e747d93e",
        "colab": {
          "base_uri": "https://localhost:8080/"
        }
      },
      "source": [
        "# Training the model\n",
        "model.fit(X_train,Y_train,\n",
        "          batch_size=batch_size,\n",
        "          validation_data=(X_test, Y_test),\n",
        "          epochs=epochs,shuffle=True)"
      ],
      "execution_count": 22,
      "outputs": [
        {
          "output_type": "stream",
          "text": [
            "Epoch 1/30\n",
            "460/460 [==============================] - 19s 41ms/step - loss: 1.4152 - accuracy: 0.3490 - val_loss: 1.3627 - val_accuracy: 0.3984\n",
            "Epoch 2/30\n",
            "460/460 [==============================] - 19s 40ms/step - loss: 1.0927 - accuracy: 0.5469 - val_loss: 0.9226 - val_accuracy: 0.6227\n",
            "Epoch 3/30\n",
            "460/460 [==============================] - 18s 40ms/step - loss: 0.8244 - accuracy: 0.6496 - val_loss: 0.7819 - val_accuracy: 0.6352\n",
            "Epoch 4/30\n",
            "460/460 [==============================] - 19s 41ms/step - loss: 0.7127 - accuracy: 0.6742 - val_loss: 0.7771 - val_accuracy: 0.6535\n",
            "Epoch 5/30\n",
            "460/460 [==============================] - 19s 41ms/step - loss: 0.6585 - accuracy: 0.6950 - val_loss: 0.7408 - val_accuracy: 0.6851\n",
            "Epoch 6/30\n",
            "460/460 [==============================] - 19s 42ms/step - loss: 0.5801 - accuracy: 0.7552 - val_loss: 0.6393 - val_accuracy: 0.7448\n",
            "Epoch 7/30\n",
            "460/460 [==============================] - 19s 40ms/step - loss: 0.4957 - accuracy: 0.8108 - val_loss: 0.4658 - val_accuracy: 0.8045\n",
            "Epoch 8/30\n",
            "460/460 [==============================] - 19s 40ms/step - loss: 0.4352 - accuracy: 0.8376 - val_loss: 0.5603 - val_accuracy: 0.8096\n",
            "Epoch 9/30\n",
            "460/460 [==============================] - 18s 40ms/step - loss: 0.3760 - accuracy: 0.8810 - val_loss: 0.4653 - val_accuracy: 0.8456\n",
            "Epoch 10/30\n",
            "460/460 [==============================] - 19s 42ms/step - loss: 0.3260 - accuracy: 0.8993 - val_loss: 0.5442 - val_accuracy: 0.8378\n",
            "Epoch 11/30\n",
            "460/460 [==============================] - 18s 40ms/step - loss: 0.3032 - accuracy: 0.9086 - val_loss: 0.5032 - val_accuracy: 0.8558\n",
            "Epoch 12/30\n",
            "460/460 [==============================] - 19s 40ms/step - loss: 0.2570 - accuracy: 0.9256 - val_loss: 0.5099 - val_accuracy: 0.8728\n",
            "Epoch 13/30\n",
            "460/460 [==============================] - 19s 40ms/step - loss: 0.2427 - accuracy: 0.9276 - val_loss: 0.5741 - val_accuracy: 0.8816\n",
            "Epoch 14/30\n",
            "460/460 [==============================] - 18s 40ms/step - loss: 0.2293 - accuracy: 0.9298 - val_loss: 0.6177 - val_accuracy: 0.8599\n",
            "Epoch 15/30\n",
            "460/460 [==============================] - 18s 40ms/step - loss: 0.2055 - accuracy: 0.9344 - val_loss: 0.6082 - val_accuracy: 0.8544\n",
            "Epoch 16/30\n",
            "460/460 [==============================] - 18s 40ms/step - loss: 0.2006 - accuracy: 0.9385 - val_loss: 0.4274 - val_accuracy: 0.8975\n",
            "Epoch 17/30\n",
            "460/460 [==============================] - 19s 41ms/step - loss: 0.1920 - accuracy: 0.9407 - val_loss: 0.5437 - val_accuracy: 0.8789\n",
            "Epoch 18/30\n",
            "460/460 [==============================] - 19s 41ms/step - loss: 0.1825 - accuracy: 0.9385 - val_loss: 0.6089 - val_accuracy: 0.8789\n",
            "Epoch 19/30\n",
            "460/460 [==============================] - 19s 41ms/step - loss: 0.1861 - accuracy: 0.9388 - val_loss: 0.4762 - val_accuracy: 0.8884\n",
            "Epoch 20/30\n",
            "460/460 [==============================] - 19s 41ms/step - loss: 0.2527 - accuracy: 0.9274 - val_loss: 0.4974 - val_accuracy: 0.8887\n",
            "Epoch 21/30\n",
            "460/460 [==============================] - 19s 41ms/step - loss: 0.1961 - accuracy: 0.9422 - val_loss: 0.6418 - val_accuracy: 0.8775\n",
            "Epoch 22/30\n",
            "460/460 [==============================] - 19s 41ms/step - loss: 0.2020 - accuracy: 0.9385 - val_loss: 0.4378 - val_accuracy: 0.8999\n",
            "Epoch 23/30\n",
            "460/460 [==============================] - 19s 42ms/step - loss: 0.1858 - accuracy: 0.9422 - val_loss: 0.4837 - val_accuracy: 0.9050\n",
            "Epoch 24/30\n",
            "460/460 [==============================] - 19s 40ms/step - loss: 0.1787 - accuracy: 0.9421 - val_loss: 0.5411 - val_accuracy: 0.9013\n",
            "Epoch 25/30\n",
            "460/460 [==============================] - 18s 40ms/step - loss: 0.1833 - accuracy: 0.9444 - val_loss: 0.6776 - val_accuracy: 0.8802\n",
            "Epoch 26/30\n",
            "460/460 [==============================] - 19s 41ms/step - loss: 0.1852 - accuracy: 0.9422 - val_loss: 0.6711 - val_accuracy: 0.8846\n",
            "Epoch 27/30\n",
            "460/460 [==============================] - 22s 48ms/step - loss: 0.1925 - accuracy: 0.9423 - val_loss: 0.5872 - val_accuracy: 0.9009\n",
            "Epoch 28/30\n",
            "460/460 [==============================] - 19s 40ms/step - loss: 0.1634 - accuracy: 0.9433 - val_loss: 0.6557 - val_accuracy: 0.8846\n",
            "Epoch 29/30\n",
            "460/460 [==============================] - 19s 40ms/step - loss: 0.1782 - accuracy: 0.9433 - val_loss: 0.5980 - val_accuracy: 0.8996\n",
            "Epoch 30/30\n",
            "460/460 [==============================] - 19s 40ms/step - loss: 0.1554 - accuracy: 0.9495 - val_loss: 0.7308 - val_accuracy: 0.8819\n"
          ],
          "name": "stdout"
        },
        {
          "output_type": "execute_result",
          "data": {
            "text/plain": [
              "<tensorflow.python.keras.callbacks.History at 0x7f20498137f0>"
            ]
          },
          "metadata": {
            "tags": []
          },
          "execution_count": 22
        }
      ]
    },
    {
      "cell_type": "code",
      "metadata": {
        "id": "PAhRLv6hoxz-"
      },
      "source": [
        "Y_pred = model.predict(X_test)"
      ],
      "execution_count": 23,
      "outputs": []
    },
    {
      "cell_type": "code",
      "metadata": {
        "id": "Ipm8JL_ppAWL"
      },
      "source": [
        "pred = np.argmax(Y_pred,axis = 1) \n",
        "Y_actual = np.argmax(Y_test,axis = 1)"
      ],
      "execution_count": 24,
      "outputs": []
    },
    {
      "cell_type": "code",
      "metadata": {
        "id": "py_L1oJMpoBt"
      },
      "source": [
        "from sklearn.metrics import classification_report, confusion_matrix"
      ],
      "execution_count": 26,
      "outputs": []
    },
    {
      "cell_type": "code",
      "metadata": {
        "id": "Sglry8a1pGCP",
        "outputId": "48d7198a-d315-4f53-921e-29615e162b4d",
        "colab": {
          "base_uri": "https://localhost:8080/"
        }
      },
      "source": [
        "confusion_matrix(Y_actual, pred)"
      ],
      "execution_count": 27,
      "outputs": [
        {
          "output_type": "execute_result",
          "data": {
            "text/plain": [
              "array([[467,   3,  26,   0,   0,   0],\n",
              "       [ 13, 452,   1,   5,   0,   0],\n",
              "       [  3,  16, 401,   0,   0,   0],\n",
              "       [  0,  27,   0, 413,  51,   0],\n",
              "       [  4,  71,   0, 101, 356,   0],\n",
              "       [  0,  27,   0,   0,   0, 510]])"
            ]
          },
          "metadata": {
            "tags": []
          },
          "execution_count": 27
        }
      ]
    },
    {
      "cell_type": "code",
      "metadata": {
        "id": "bULMk2ELpxWe",
        "outputId": "5884ed4e-ee8e-4724-edff-d1d90f530f46",
        "colab": {
          "base_uri": "https://localhost:8080/"
        }
      },
      "source": [
        "print(classification_report(Y_actual, pred))"
      ],
      "execution_count": 28,
      "outputs": [
        {
          "output_type": "stream",
          "text": [
            "              precision    recall  f1-score   support\n",
            "\n",
            "           0       0.96      0.94      0.95       496\n",
            "           1       0.76      0.96      0.85       471\n",
            "           2       0.94      0.95      0.95       420\n",
            "           3       0.80      0.84      0.82       491\n",
            "           4       0.87      0.67      0.76       532\n",
            "           5       1.00      0.95      0.97       537\n",
            "\n",
            "    accuracy                           0.88      2947\n",
            "   macro avg       0.89      0.89      0.88      2947\n",
            "weighted avg       0.89      0.88      0.88      2947\n",
            "\n"
          ],
          "name": "stdout"
        }
      ]
    },
    {
      "cell_type": "markdown",
      "metadata": {
        "id": "tmoCJ7cDqGVD"
      },
      "source": [
        "**Multi_Layer LSTM**"
      ]
    },
    {
      "cell_type": "code",
      "metadata": {
        "id": "rKl29WLfqbk6",
        "outputId": "aa1d2464-f9f9-4e81-fcb8-83a07c158230",
        "colab": {
          "base_uri": "https://localhost:8080/"
        }
      },
      "source": [
        "# Initiliazing the sequential model\n",
        "model = Sequential()\n",
        "# Configuring the parameters\n",
        "model.add(LSTM(32,return_sequences=True,input_shape=(timesteps, input_dim)))\n",
        "# Adding a dropout layer\n",
        "model.add(Dropout(0.5))\n",
        "\n",
        "model.add(LSTM(28,input_shape=(timesteps, input_dim)))\n",
        "# Adding a dropout layer\n",
        "model.add(Dropout(0.6))\n",
        "# Adding a dense output layer with sigmoid activation\n",
        "model.add(Dense(n_classes, activation='sigmoid'))\n",
        "model.summary()"
      ],
      "execution_count": 29,
      "outputs": [
        {
          "output_type": "stream",
          "text": [
            "Model: \"sequential_1\"\n",
            "_________________________________________________________________\n",
            "Layer (type)                 Output Shape              Param #   \n",
            "=================================================================\n",
            "lstm_1 (LSTM)                (None, 128, 32)           5376      \n",
            "_________________________________________________________________\n",
            "dropout_1 (Dropout)          (None, 128, 32)           0         \n",
            "_________________________________________________________________\n",
            "lstm_2 (LSTM)                (None, 28)                6832      \n",
            "_________________________________________________________________\n",
            "dropout_2 (Dropout)          (None, 28)                0         \n",
            "_________________________________________________________________\n",
            "dense_1 (Dense)              (None, 6)                 174       \n",
            "=================================================================\n",
            "Total params: 12,382\n",
            "Trainable params: 12,382\n",
            "Non-trainable params: 0\n",
            "_________________________________________________________________\n"
          ],
          "name": "stdout"
        }
      ]
    },
    {
      "cell_type": "code",
      "metadata": {
        "id": "ZTy1Yx0xq4N-"
      },
      "source": [
        "# Compiling the model\n",
        "model.compile(loss='categorical_crossentropy',\n",
        "              optimizer='rmsprop',\n",
        "              metrics=['accuracy'])"
      ],
      "execution_count": 30,
      "outputs": []
    },
    {
      "cell_type": "code",
      "metadata": {
        "id": "QXT6Wl3VrK6e",
        "outputId": "f6e17c95-acd4-428c-99bb-32b670173482",
        "colab": {
          "base_uri": "https://localhost:8080/"
        }
      },
      "source": [
        "# Training the model\n",
        "model.fit(X_train,\n",
        "          Y_train,\n",
        "          batch_size=batch_size,\n",
        "          validation_data=(X_test, Y_test),\n",
        "          epochs=epochs)"
      ],
      "execution_count": 31,
      "outputs": [
        {
          "output_type": "stream",
          "text": [
            "Epoch 1/30\n",
            "460/460 [==============================] - 40s 87ms/step - loss: 1.2913 - accuracy: 0.4816 - val_loss: 1.0863 - val_accuracy: 0.5691\n",
            "Epoch 2/30\n",
            "460/460 [==============================] - 39s 86ms/step - loss: 0.9205 - accuracy: 0.6697 - val_loss: 0.7621 - val_accuracy: 0.7061\n",
            "Epoch 3/30\n",
            "460/460 [==============================] - 40s 87ms/step - loss: 0.7293 - accuracy: 0.7363 - val_loss: 0.6511 - val_accuracy: 0.7272\n",
            "Epoch 4/30\n",
            "460/460 [==============================] - 39s 85ms/step - loss: 0.6017 - accuracy: 0.7697 - val_loss: 1.1219 - val_accuracy: 0.5928\n",
            "Epoch 5/30\n",
            "460/460 [==============================] - 39s 85ms/step - loss: 0.5165 - accuracy: 0.7922 - val_loss: 0.6284 - val_accuracy: 0.7594\n",
            "Epoch 6/30\n",
            "460/460 [==============================] - 39s 85ms/step - loss: 0.4768 - accuracy: 0.8181 - val_loss: 0.9831 - val_accuracy: 0.7323\n",
            "Epoch 7/30\n",
            "460/460 [==============================] - 42s 92ms/step - loss: 0.4563 - accuracy: 0.8464 - val_loss: 0.7939 - val_accuracy: 0.7798\n",
            "Epoch 8/30\n",
            "460/460 [==============================] - 40s 87ms/step - loss: 0.3709 - accuracy: 0.8923 - val_loss: 0.4351 - val_accuracy: 0.8639\n",
            "Epoch 9/30\n",
            "460/460 [==============================] - 39s 85ms/step - loss: 0.3180 - accuracy: 0.9116 - val_loss: 0.6126 - val_accuracy: 0.8371\n",
            "Epoch 10/30\n",
            "460/460 [==============================] - 39s 85ms/step - loss: 0.2923 - accuracy: 0.9203 - val_loss: 0.4967 - val_accuracy: 0.8751\n",
            "Epoch 11/30\n",
            "460/460 [==============================] - 42s 92ms/step - loss: 0.2685 - accuracy: 0.9204 - val_loss: 0.5605 - val_accuracy: 0.8235\n",
            "Epoch 12/30\n",
            "460/460 [==============================] - 39s 86ms/step - loss: 0.2629 - accuracy: 0.9223 - val_loss: 0.5719 - val_accuracy: 0.8806\n",
            "Epoch 13/30\n",
            "460/460 [==============================] - 40s 86ms/step - loss: 0.2453 - accuracy: 0.9276 - val_loss: 0.5509 - val_accuracy: 0.8826\n",
            "Epoch 14/30\n",
            "460/460 [==============================] - 40s 86ms/step - loss: 0.2319 - accuracy: 0.9314 - val_loss: 0.4866 - val_accuracy: 0.8951\n",
            "Epoch 15/30\n",
            "460/460 [==============================] - 39s 85ms/step - loss: 0.2217 - accuracy: 0.9368 - val_loss: 0.5487 - val_accuracy: 0.8924\n",
            "Epoch 16/30\n",
            "460/460 [==============================] - 40s 87ms/step - loss: 0.2259 - accuracy: 0.9342 - val_loss: 0.5113 - val_accuracy: 0.8928\n",
            "Epoch 17/30\n",
            "460/460 [==============================] - 39s 86ms/step - loss: 0.1938 - accuracy: 0.9376 - val_loss: 0.5708 - val_accuracy: 0.8873\n",
            "Epoch 18/30\n",
            "460/460 [==============================] - 39s 85ms/step - loss: 0.2058 - accuracy: 0.9402 - val_loss: 0.6052 - val_accuracy: 0.8850\n",
            "Epoch 19/30\n",
            "460/460 [==============================] - 40s 88ms/step - loss: 0.1967 - accuracy: 0.9380 - val_loss: 0.4981 - val_accuracy: 0.8853\n",
            "Epoch 20/30\n",
            "460/460 [==============================] - 39s 86ms/step - loss: 0.1982 - accuracy: 0.9416 - val_loss: 0.6772 - val_accuracy: 0.8792\n",
            "Epoch 21/30\n",
            "460/460 [==============================] - 39s 85ms/step - loss: 0.1972 - accuracy: 0.9396 - val_loss: 0.4744 - val_accuracy: 0.9002\n",
            "Epoch 22/30\n",
            "460/460 [==============================] - 39s 86ms/step - loss: 0.1793 - accuracy: 0.9453 - val_loss: 0.6291 - val_accuracy: 0.8955\n",
            "Epoch 23/30\n",
            "460/460 [==============================] - 43s 93ms/step - loss: 0.2040 - accuracy: 0.9402 - val_loss: 0.6043 - val_accuracy: 0.8938\n",
            "Epoch 24/30\n",
            "460/460 [==============================] - 40s 86ms/step - loss: 0.1831 - accuracy: 0.9419 - val_loss: 0.6444 - val_accuracy: 0.8887\n",
            "Epoch 25/30\n",
            "460/460 [==============================] - 40s 86ms/step - loss: 0.1683 - accuracy: 0.9452 - val_loss: 0.6268 - val_accuracy: 0.8921\n",
            "Epoch 26/30\n",
            "460/460 [==============================] - 39s 86ms/step - loss: 0.1841 - accuracy: 0.9414 - val_loss: 0.5891 - val_accuracy: 0.8884\n",
            "Epoch 27/30\n",
            "460/460 [==============================] - 41s 89ms/step - loss: 0.1762 - accuracy: 0.9455 - val_loss: 0.4423 - val_accuracy: 0.9067\n",
            "Epoch 28/30\n",
            "460/460 [==============================] - 40s 86ms/step - loss: 0.1631 - accuracy: 0.9449 - val_loss: 0.7003 - val_accuracy: 0.8907\n",
            "Epoch 29/30\n",
            "460/460 [==============================] - 40s 87ms/step - loss: 0.1709 - accuracy: 0.9465 - val_loss: 0.6230 - val_accuracy: 0.8941\n",
            "Epoch 30/30\n",
            "460/460 [==============================] - 41s 89ms/step - loss: 0.2169 - accuracy: 0.9365 - val_loss: 0.6440 - val_accuracy: 0.9013\n"
          ],
          "name": "stdout"
        },
        {
          "output_type": "execute_result",
          "data": {
            "text/plain": [
              "<tensorflow.python.keras.callbacks.History at 0x7f2045622710>"
            ]
          },
          "metadata": {
            "tags": []
          },
          "execution_count": 31
        }
      ]
    },
    {
      "cell_type": "code",
      "metadata": {
        "id": "hNyo8KVOv6Zd"
      },
      "source": [
        "Y_pred = model.predict(X_test)"
      ],
      "execution_count": 32,
      "outputs": []
    },
    {
      "cell_type": "code",
      "metadata": {
        "id": "-_r33tZDwE4J"
      },
      "source": [
        "pred = np.argmax(Y_pred,axis = 1) \n",
        "Y_actual = np.argmax(Y_test,axis = 1)"
      ],
      "execution_count": 33,
      "outputs": []
    },
    {
      "cell_type": "code",
      "metadata": {
        "id": "VEhYH4ViwNCE",
        "outputId": "1437c9cd-e4d4-43b6-d2a6-3969d6c64f38",
        "colab": {
          "base_uri": "https://localhost:8080/"
        }
      },
      "source": [
        "confusion_matrix(Y_actual, pred)"
      ],
      "execution_count": 34,
      "outputs": [
        {
          "output_type": "execute_result",
          "data": {
            "text/plain": [
              "array([[449,   3,  44,   0,   0,   0],\n",
              "       [  5, 445,  21,   0,   0,   0],\n",
              "       [  5,   5, 410,   0,   0,   0],\n",
              "       [  2,   3,   0, 373, 113,   0],\n",
              "       [  4,   0,   0,  59, 469,   0],\n",
              "       [  0,  25,   0,   0,   2, 510]])"
            ]
          },
          "metadata": {
            "tags": []
          },
          "execution_count": 34
        }
      ]
    },
    {
      "cell_type": "code",
      "metadata": {
        "id": "yP0ebR8GwV1I",
        "outputId": "43efc9d6-2551-4ddd-95c4-cad4f4cf4072",
        "colab": {
          "base_uri": "https://localhost:8080/"
        }
      },
      "source": [
        "print(classification_report(Y_actual, pred))"
      ],
      "execution_count": 35,
      "outputs": [
        {
          "output_type": "stream",
          "text": [
            "              precision    recall  f1-score   support\n",
            "\n",
            "           0       0.97      0.91      0.93       496\n",
            "           1       0.93      0.94      0.93       471\n",
            "           2       0.86      0.98      0.92       420\n",
            "           3       0.86      0.76      0.81       491\n",
            "           4       0.80      0.88      0.84       532\n",
            "           5       1.00      0.95      0.97       537\n",
            "\n",
            "    accuracy                           0.90      2947\n",
            "   macro avg       0.90      0.90      0.90      2947\n",
            "weighted avg       0.90      0.90      0.90      2947\n",
            "\n"
          ],
          "name": "stdout"
        }
      ]
    }
  ]
}